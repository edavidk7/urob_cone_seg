{
 "cells": [
  {
   "cell_type": "code",
   "execution_count": null,
   "metadata": {},
   "outputs": [],
   "source": [
    "import numpy as np\n",
    "import matplotlib.pyplot as plt\n",
    "import os\n",
    "import sys\n",
    "from pathlib import Path\n",
    "import json\n",
    "import torch\n",
    "import cv2\n",
    "import zlib\n",
    "import base64\n",
    "from utils import *\n",
    "try:\n",
    "    plt.rcParams[\"text.usetex\"] = True\n",
    "    plt.rcParams[\"font.family\"] = \"Apple Roboto\"\n",
    "except:\n",
    "    pass\n",
    "\n",
    "%load_ext autoreload\n",
    "%autoreload 3"
   ]
  },
  {
   "cell_type": "markdown",
   "metadata": {},
   "source": [
    "# Download the FSOCO segmentation dataset\n"
   ]
  },
  {
   "cell_type": "code",
   "execution_count": null,
   "metadata": {},
   "outputs": [],
   "source": [
    "!if ! [ -e \"fsoco_segmentation.zip\" ]; then curl -o fsoco_segmentation.zip http://fsoco.cs.uni-freiburg.de/datasets/fsoco_segmentation_train.zip ; fi\n",
    "!if ! [ -d \"fsoco_segmentation\" ]; then unzip fsoco_segmentation.zip -d fsoco_segmentation; fi\n",
    "!if [ \"$(uname -s)\" = 'Darwin' -a -d \"__MACOSX\" ]; then rm -r __MACOSX; fi\n",
    "!rm fsoco_segmentation.zip"
   ]
  },
  {
   "cell_type": "markdown",
   "metadata": {},
   "source": [
    "# Process data and convert the format\n"
   ]
  },
  {
   "cell_type": "code",
   "execution_count": null,
   "metadata": {},
   "outputs": [],
   "source": [
    "#  Meta\n",
    "dataset_name = 'fsoco_segmentation'\n",
    "dataset_dir = Path(dataset_name)\n",
    "meta = dataset_dir / 'meta.json'\n",
    "with open(meta) as f:\n",
    "    meta = json.load(f)\n",
    "print(meta)"
   ]
  },
  {
   "cell_type": "code",
   "execution_count": null,
   "metadata": {},
   "outputs": [],
   "source": [
    "# Classes\n",
    "classname_to_classid = {'background': 0}\n",
    "i = 1\n",
    "for classentry in meta['classes']:\n",
    "    if \"seg\" in classentry['title']:\n",
    "        classname_to_classid[classentry['title']] = i\n",
    "        i += 1\n",
    "print(classname_to_classid)"
   ]
  },
  {
   "cell_type": "code",
   "execution_count": null,
   "metadata": {},
   "outputs": [],
   "source": [
    "# Class IDs to colors\n",
    "classid_to_color = {\n",
    "    0: (20, 20, 20),\n",
    "    1: (252, 132, 3),\n",
    "    2: (231, 252, 3),\n",
    "    3: (255, 0, 0),\n",
    "    4: (3, 40, 252),\n",
    "    5: (0, 255, 0),\n",
    "}"
   ]
  },
  {
   "cell_type": "code",
   "execution_count": null,
   "metadata": {},
   "outputs": [],
   "source": [
    "#  Subdirectories with some batch of images and annotations\n",
    "subdirs = filter(lambda x: x.is_dir(), dataset_dir.iterdir())"
   ]
  },
  {
   "cell_type": "code",
   "execution_count": null,
   "metadata": {},
   "outputs": [],
   "source": [
    "#  Get all image and annotation paths matched\n",
    "img_ann_pairs = []\n",
    "for subdir in subdirs:\n",
    "    imdir = subdir / \"img\"\n",
    "    anndir = subdir / \"ann\"\n",
    "    ims = list(imdir.glob(\"*.png\")) + list(imdir.glob(\"*.jpg\"))\n",
    "    anns = list(anndir.glob(\"*.json\"))\n",
    "    ims.sort()\n",
    "    anns.sort()\n",
    "    assert len(ims) == len(anns)\n",
    "    img_ann_pairs += list(zip(ims, anns))\n",
    "print(\"Found {} image-annotation pairs\".format(len(img_ann_pairs)))\n",
    "print(\"Example pair: {}\".format(img_ann_pairs[0]))"
   ]
  },
  {
   "cell_type": "code",
   "execution_count": null,
   "metadata": {},
   "outputs": [],
   "source": [
    "# Process dataset and put in a separate folder\n",
    "processed = dataset_name + \"_processed\"\n",
    "processed_dir = Path(processed)\n",
    "processed_dir.mkdir(exist_ok=True)\n",
    "processed_im = processed_dir / \"img\"\n",
    "processed_im.mkdir(exist_ok=True)\n",
    "processed_ann = processed_dir / \"ann\"\n",
    "processed_ann.mkdir(exist_ok=True)\n",
    "\n",
    "BLACK_BAR = 140\n",
    "\n",
    "\n",
    "def base64_2_mask(s):\n",
    "    z = zlib.decompress(base64.b64decode(s))\n",
    "    n = np.frombuffer(z, np.uint8)\n",
    "    mask = cv2.imdecode(n, cv2.IMREAD_UNCHANGED)[:, :, 3].astype(bool)\n",
    "    return mask\n",
    "\n",
    "\n",
    "def json_to_mark_array(data):\n",
    "    mask_image = np.zeros(\n",
    "        (data[\"size\"][\"height\"], data[\"size\"][\"width\"]), dtype=np.uint8)\n",
    "    for obj in data[\"objects\"]:\n",
    "        if obj[\"classTitle\"] in classname_to_classid:\n",
    "            origin_x, origin_y = obj[\"bitmap\"][\"origin\"]\n",
    "            mask_array = base64_2_mask(obj[\"bitmap\"][\"data\"])\n",
    "            mask_image[origin_y:origin_y + mask_array.shape[0],\n",
    "                       origin_x:origin_x + mask_array.shape[1]] = mask_array * classname_to_classid[obj[\"classTitle\"]]\n",
    "    return mask_image\n",
    "\n",
    "\n",
    "def mask_arr_to_color_image(mask_arr):\n",
    "    color_image = np.zeros(\n",
    "        (mask_arr.shape[0], mask_arr.shape[1], 3), dtype=np.uint8)\n",
    "    for classid in classid_to_color:\n",
    "        color_image[mask_arr == classid] = classid_to_color[classid]\n",
    "    return color_image\n",
    "\n",
    "\n",
    "for im, ann in img_ann_pairs:\n",
    "    # Get the image and the mask array\n",
    "    image_arr = cv2.imread(str(im))\n",
    "    with open(ann) as f:\n",
    "        ann_json = json.load(f)\n",
    "    mask_arr = json_to_mark_array(ann_json)\n",
    "    #  Now crop the black bars around\n",
    "    image_arr = image_arr[BLACK_BAR:-BLACK_BAR, BLACK_BAR:-BLACK_BAR, :]\n",
    "    mask_arr = mask_arr[BLACK_BAR:-BLACK_BAR, BLACK_BAR:-BLACK_BAR]\n",
    "    # Save the image and the mask\n",
    "    cv2.imwrite(str(processed_im / (im.stem + \".jpeg\")), image_arr)\n",
    "    np.savez_compressed(\n",
    "        str(processed_ann / (ann.name.split(\".\")[0] + \".npz\")), mask_arr)"
   ]
  },
  {
   "cell_type": "code",
   "execution_count": null,
   "metadata": {},
   "outputs": [],
   "source": [
    "#  Load the newly processed masks and images\n",
    "processed_imgs = list(processed_im.glob(\"*.jpeg\"))\n",
    "processed_imgs.sort()\n",
    "processed_masks = list(processed_ann.glob(\"*.npz\"))\n",
    "processed_masks.sort()\n",
    "processed_pairs = list(zip(processed_imgs, processed_masks))\n",
    "print(\"Found {} processed image-annotation pairs\".format(len(processed_pairs)))"
   ]
  },
  {
   "cell_type": "code",
   "execution_count": null,
   "metadata": {},
   "outputs": [],
   "source": [
    "#  Visualize some\n",
    "for im, ann in processed_pairs[:5]:\n",
    "    image_arr = cv2.imread(str(im))\n",
    "    image_arr = cv2.cvtColor(image_arr, cv2.COLOR_BGR2RGB)\n",
    "    mask_arr = np.load(str(ann))[\"arr_0\"]\n",
    "    color_image = mask_arr_to_color_image(mask_arr)\n",
    "    fig, ax = plt.subplots(1, 2, figsize=(15, 7), dpi=200)\n",
    "    ax[0].imshow(image_arr)\n",
    "    ax[0].set_title(\"Image\")\n",
    "    ax[0].axis(\"off\")\n",
    "    ax[1].imshow(color_image)\n",
    "    ax[1].set_title(\"Mask\")\n",
    "    ax[1].axis(\"off\")\n",
    "    plt.show()"
   ]
  }
 ],
 "metadata": {
  "kernelspec": {
   "display_name": "Python 3 (ipykernel)",
   "language": "python",
   "name": "python3"
  },
  "language_info": {
   "codemirror_mode": {
    "name": "ipython",
    "version": 3
   },
   "file_extension": ".py",
   "mimetype": "text/x-python",
   "name": "python",
   "nbconvert_exporter": "python",
   "pygments_lexer": "ipython3",
   "version": "3.11.6"
  }
 },
 "nbformat": 4,
 "nbformat_minor": 4
}
