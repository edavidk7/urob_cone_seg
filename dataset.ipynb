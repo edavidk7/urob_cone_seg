{
 "cells": [
  {
   "cell_type": "code",
   "execution_count": 16,
   "metadata": {},
   "outputs": [
    {
     "name": "stdout",
     "output_type": "stream",
     "text": [
      "The autoreload extension is already loaded. To reload it, use:\n",
      "  %reload_ext autoreload\n"
     ]
    }
   ],
   "source": [
    "import numpy as np\n",
    "import matplotlib.pyplot as plt\n",
    "import os\n",
    "import sys\n",
    "from pathlib import Path\n",
    "import json\n",
    "import torch\n",
    "import cv2\n",
    "import zlib\n",
    "import base64\n",
    "from utils import *\n",
    "import tqdm\n",
    "try:\n",
    "    plt.rcParams[\"text.usetex\"] = True\n",
    "    plt.rcParams[\"font.family\"] = \"Apple Roboto\"\n",
    "except:\n",
    "    pass\n",
    "\n",
    "%load_ext autoreload\n",
    "%autoreload 3"
   ]
  },
  {
   "cell_type": "markdown",
   "metadata": {},
   "source": [
    "# Download the FSOCO segmentation dataset\n"
   ]
  },
  {
   "cell_type": "code",
   "execution_count": null,
   "metadata": {},
   "outputs": [],
   "source": [
    "!if ! [ -e \"fsoco_segmentation.zip\" ]; then curl -o fsoco_segmentation.zip http://fsoco.cs.uni-freiburg.de/datasets/fsoco_segmentation_train.zip ; fi\n",
    "!if ! [ -d \"fsoco_segmentation\" ]; then unzip fsoco_segmentation.zip -d fsoco_segmentation; fi\n",
    "!if [ \"$(uname -s)\" = 'Darwin' -a -d \"__MACOSX\" ]; then rm -r __MACOSX; fi\n",
    "!rm fsoco_segmentation.zip"
   ]
  },
  {
   "cell_type": "markdown",
   "metadata": {},
   "source": [
    "# Process data and convert the format\n"
   ]
  },
  {
   "cell_type": "code",
   "execution_count": 19,
   "metadata": {},
   "outputs": [
    {
     "name": "stdout",
     "output_type": "stream",
     "text": [
      "{'classes': [{'title': 'seg_orange_cone', 'shape': 'bitmap', 'color': '#FF8000', 'geometry_config': {}, 'id': 2926554, 'hotkey': ''}, {'title': 'seg_yellow_cone', 'shape': 'bitmap', 'color': '#FFFF00', 'geometry_config': {}, 'id': 2926555, 'hotkey': ''}, {'title': 'blue_cone', 'shape': 'rectangle', 'color': '#2A00FF', 'geometry_config': {}, 'id': 2926556, 'hotkey': ''}, {'title': 'yellow_cone', 'shape': 'rectangle', 'color': '#FFFF00', 'geometry_config': {}, 'id': 2926557, 'hotkey': ''}, {'title': 'orange_cone', 'shape': 'rectangle', 'color': '#FF8000', 'geometry_config': {}, 'id': 2926558, 'hotkey': ''}, {'title': 'large_orange_cone', 'shape': 'rectangle', 'color': '#FF002A', 'geometry_config': {}, 'id': 2926559, 'hotkey': ''}, {'title': 'unknown_cone', 'shape': 'rectangle', 'color': '#3BDB0F', 'geometry_config': {}, 'id': 2926560, 'hotkey': ''}, {'title': 'seg_large_orange_cone', 'shape': 'bitmap', 'color': '#FF002A', 'geometry_config': {}, 'id': 2926561, 'hotkey': ''}, {'title': 'seg_blue_cone', 'shape': 'bitmap', 'color': '#2A00FF', 'geometry_config': {}, 'id': 2926562, 'hotkey': ''}, {'title': 'seg_unknown_cone', 'shape': 'bitmap', 'color': '#3BDB0F', 'geometry_config': {}, 'id': 2926563, 'hotkey': ''}], 'tags': [{'name': 'issue', 'value_type': 'any_string', 'color': '#FF0000', 'id': 30056001, 'hotkey': '', 'applicable_type': 'all', 'classes': []}, {'name': 'resolved', 'value_type': 'none', 'color': '#00FF00', 'id': 30056002, 'hotkey': '', 'applicable_type': 'all', 'classes': []}, {'name': 'fixed_issue', 'value_type': 'any_number', 'color': '#0000FF', 'id': 30056003, 'hotkey': '', 'applicable_type': 'all', 'classes': []}, {'name': 'truncated', 'value_type': 'none', 'color': '#973B8D', 'id': 29137873, 'hotkey': '', 'applicable_type': 'objectsOnly', 'classes': []}, {'name': 'train', 'value_type': 'none', 'color': '#0F8A60', 'id': 29137874, 'hotkey': '', 'applicable_type': 'all', 'classes': []}, {'name': 'test', 'value_type': 'none', 'color': '#0F258A', 'id': 29137875, 'hotkey': '', 'applicable_type': 'all', 'classes': []}, {'name': 'knocked_over', 'value_type': 'none', 'color': '#7A2E66', 'id': 29137876, 'hotkey': '', 'applicable_type': 'objectsOnly', 'classes': []}, {'name': 'sticker_band_removed', 'value_type': 'none', 'color': '#2BB178', 'id': 29137877, 'hotkey': '', 'applicable_type': 'objectsOnly', 'classes': []}], 'projectType': 'images'}\n"
     ]
    }
   ],
   "source": [
    "#  Meta\n",
    "dataset_name = 'fsoco_segmentation'\n",
    "dataset_dir = Path(dataset_name)\n",
    "meta = dataset_dir / 'meta.json'\n",
    "with open(meta) as f:\n",
    "    meta = json.load(f)\n",
    "print(meta)"
   ]
  },
  {
   "cell_type": "code",
   "execution_count": 20,
   "metadata": {},
   "outputs": [
    {
     "name": "stdout",
     "output_type": "stream",
     "text": [
      "{'background': 0, 'seg_orange_cone': 1, 'seg_yellow_cone': 2, 'seg_large_orange_cone': 3, 'seg_blue_cone': 4, 'seg_unknown_cone': 5}\n"
     ]
    }
   ],
   "source": [
    "# Classes\n",
    "classname_to_classid = {'background': 0}\n",
    "i = 1\n",
    "for classentry in meta['classes']:\n",
    "    if \"seg\" in classentry['title']:\n",
    "        classname_to_classid[classentry['title']] = i\n",
    "        i += 1\n",
    "print(classname_to_classid)"
   ]
  },
  {
   "cell_type": "code",
   "execution_count": 4,
   "metadata": {},
   "outputs": [],
   "source": [
    "# Class IDs to colors\n",
    "classid_to_color = {\n",
    "    0: (20, 20, 20),\n",
    "    1: (252, 132, 3),\n",
    "    2: (231, 252, 3),\n",
    "    3: (255, 0, 0),\n",
    "    4: (3, 40, 252),\n",
    "    5: (0, 255, 0),\n",
    "}"
   ]
  },
  {
   "cell_type": "code",
   "execution_count": 5,
   "metadata": {},
   "outputs": [],
   "source": [
    "#  Subdirectories with some batch of images and annotations\n",
    "subdirs = filter(lambda x: x.is_dir(), dataset_dir.iterdir())"
   ]
  },
  {
   "cell_type": "code",
   "execution_count": 6,
   "metadata": {},
   "outputs": [
    {
     "name": "stdout",
     "output_type": "stream",
     "text": [
      "Found 1517 image-annotation pairs\n",
      "Example pair: (PosixPath('fsoco_segmentation/epflrt/img/amz_00825.png'), PosixPath('fsoco_segmentation/epflrt/ann/amz_00825.png.json'))\n"
     ]
    }
   ],
   "source": [
    "#  Get all image and annotation paths matched\n",
    "img_ann_pairs = []\n",
    "for subdir in subdirs:\n",
    "    imdir = subdir / \"img\"\n",
    "    anndir = subdir / \"ann\"\n",
    "    ims = list(imdir.glob(\"*.png\")) + list(imdir.glob(\"*.jpg\"))\n",
    "    anns = list(anndir.glob(\"*.json\"))\n",
    "    ims.sort()\n",
    "    anns.sort()\n",
    "    assert len(ims) == len(anns)\n",
    "    img_ann_pairs += list(zip(ims, anns))\n",
    "print(\"Found {} image-annotation pairs\".format(len(img_ann_pairs)))\n",
    "print(\"Example pair: {}\".format(img_ann_pairs[0]))"
   ]
  },
  {
   "cell_type": "code",
   "execution_count": 21,
   "metadata": {},
   "outputs": [
    {
     "name": "stderr",
     "output_type": "stream",
     "text": [
      "  0%|          | 0/1517 [00:00<?, ?it/s]"
     ]
    },
    {
     "name": "stderr",
     "output_type": "stream",
     "text": [
      "100%|██████████| 1517/1517 [21:03<00:00,  1.20it/s]\n"
     ]
    }
   ],
   "source": [
    "# Process dataset and put in a separate folder\n",
    "processed = dataset_name + \"_processed_np_only\"\n",
    "processed_dir = Path(processed)\n",
    "processed_dir.mkdir(exist_ok=True)\n",
    "processed_im = processed_dir / \"img\"\n",
    "processed_im.mkdir(exist_ok=True)\n",
    "processed_ann = processed_dir / \"ann\"\n",
    "processed_ann.mkdir(exist_ok=True)\n",
    "\n",
    "BLACK_BAR = 140\n",
    "\n",
    "\n",
    "def base64_2_mask(s):\n",
    "    z = zlib.decompress(base64.b64decode(s))\n",
    "    n = np.frombuffer(z, np.uint8)\n",
    "    mask = cv2.imdecode(n, cv2.IMREAD_UNCHANGED)[:, :, 3].astype(bool)\n",
    "    return mask\n",
    "\n",
    "\n",
    "def json_to_mark_array(data):\n",
    "    mask_image = np.zeros(\n",
    "        (data[\"size\"][\"height\"], data[\"size\"][\"width\"]), dtype=np.uint8)\n",
    "    for obj in data[\"objects\"]:\n",
    "        if obj[\"classTitle\"] in classname_to_classid:\n",
    "            origin_x, origin_y = obj[\"bitmap\"][\"origin\"]\n",
    "            mask_array = base64_2_mask(obj[\"bitmap\"][\"data\"])\n",
    "            mask_image[origin_y:origin_y + mask_array.shape[0],\n",
    "                       origin_x:origin_x + mask_array.shape[1]] = mask_array * classname_to_classid[obj[\"classTitle\"]]\n",
    "    return mask_image\n",
    "\n",
    "\n",
    "def mask_arr_to_color_image(mask_arr):\n",
    "    color_image = np.zeros(\n",
    "        (mask_arr.shape[0], mask_arr.shape[1], 3), dtype=np.uint8)\n",
    "    for classid in classid_to_color:\n",
    "        color_image[mask_arr == classid] = classid_to_color[classid]\n",
    "    return color_image\n",
    "\n",
    "\n",
    "for im, ann in tqdm.tqdm(img_ann_pairs):\n",
    "    imname = processed_im / (im.name.split(\".\")[0] + \".npz\")\n",
    "    maskname = processed_ann / (ann.name.split(\".\")[0] + \".npz\")\n",
    "    if not imname.exists():\n",
    "        # Get the image and process it\n",
    "        image_arr = cv2.imread(str(im))\n",
    "        image_arr = cv2.cvtColor(image_arr, cv2.COLOR_BGR2RGB)\n",
    "        image_arr = image_arr[BLACK_BAR:-BLACK_BAR, BLACK_BAR:-BLACK_BAR, :]\n",
    "        image_arr = image_arr.transpose(2, 0, 1)\n",
    "        np.savez_compressed(\n",
    "            imname, image_arr)\n",
    "    if not maskname.exists():\n",
    "        #  Get the mask and process it\n",
    "        with open(ann) as f:\n",
    "            ann_json = json.load(f)\n",
    "        mask_arr = json_to_mark_array(ann_json)\n",
    "        mask_arr = mask_arr[BLACK_BAR:-BLACK_BAR, BLACK_BAR:-BLACK_BAR]\n",
    "        one_hot_mask = class_mask_to_one_hot(mask_arr)\n",
    "        one_hot_mask = one_hot_mask.astype(np.bool_)\n",
    "        # Save the image and the mask\n",
    "        np.savez_compressed(\n",
    "            maskname, one_hot_mask)"
   ]
  },
  {
   "cell_type": "code",
   "execution_count": null,
   "metadata": {},
   "outputs": [],
   "source": [
    "#  Load the newly processed masks and images\n",
    "processed_imgs = list(processed_im.glob(\"*.jpeg\"))\n",
    "processed_imgs.sort()\n",
    "processed_masks = list(processed_ann.glob(\"*.npz\"))\n",
    "processed_masks.sort()\n",
    "processed_pairs = list(zip(processed_imgs, processed_masks))\n",
    "print(\"Found {} processed image-annotation pairs\".format(len(processed_pairs)))"
   ]
  },
  {
   "cell_type": "code",
   "execution_count": null,
   "metadata": {},
   "outputs": [],
   "source": [
    "#  Visualize some\n",
    "for im, ann in processed_pairs[:5]:\n",
    "    image_arr = cv2.imread(str(im))\n",
    "    image_arr = cv2.cvtColor(image_arr, cv2.COLOR_BGR2RGB)\n",
    "    mask_arr = np.load(str(ann))[\"arr_0\"]\n",
    "    color_image = mask_arr_to_color_image(mask_arr)\n",
    "    fig, ax = plt.subplots(1, 2, figsize=(15, 7), dpi=200)\n",
    "    ax[0].imshow(image_arr)\n",
    "    ax[0].set_title(\"Image\")\n",
    "    ax[0].axis(\"off\")\n",
    "    ax[1].imshow(color_image)\n",
    "    ax[1].set_title(\"Mask\")\n",
    "    ax[1].axis(\"off\")\n",
    "    plt.show()"
   ]
  }
 ],
 "metadata": {
  "kernelspec": {
   "display_name": "Python 3 (ipykernel)",
   "language": "python",
   "name": "python3"
  },
  "language_info": {
   "codemirror_mode": {
    "name": "ipython",
    "version": 3
   },
   "file_extension": ".py",
   "mimetype": "text/x-python",
   "name": "python",
   "nbconvert_exporter": "python",
   "pygments_lexer": "ipython3",
   "version": "3.11.6"
  }
 },
 "nbformat": 4,
 "nbformat_minor": 4
}
